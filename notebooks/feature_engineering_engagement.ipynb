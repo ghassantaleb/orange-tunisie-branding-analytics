{
 "cells": [
  {
   "cell_type": "code",
   "execution_count": 1,
   "id": "bfa61ad8-6ab9-48bf-99cc-6b797e814aac",
   "metadata": {},
   "outputs": [],
   "source": [
    "import pandas as pd\n",
    "import numpy as np\n",
    "\n",
    "df = pd.read_excel('../data/meta_ads_cleaned.xlsx', engine='openpyxl')\n",
    "\n",
    "df.head()\n",
    "\n",
    "engagement_df = df[df['Result indicator'] == 'actions:post_engagement'].copy()\n",
    "engagement_df.reset_index(drop=True, inplace=True)"
   ]
  },
  {
   "cell_type": "code",
   "execution_count": 2,
   "id": "d106ad3c-d0fd-44cf-a7a7-c2e2256c88f9",
   "metadata": {},
   "outputs": [],
   "source": [
    "categorical_cols = ['Platforme', 'Placement', 'Device', 'Ad set budget type']\n",
    "\n",
    "engagement_df_encoded = pd.get_dummies(engagement_df, columns=categorical_cols, drop_first=True)\n"
   ]
  },
  {
   "cell_type": "code",
   "execution_count": 3,
   "id": "2a453a4f-ccad-44fd-b91d-a446fbca75cc",
   "metadata": {},
   "outputs": [],
   "source": [
    "engagement_df_encoded['Starts'] = pd.to_datetime(engagement_df_encoded['Starts'])\n",
    "\n",
    "engagement_df_encoded['day'] = engagement_df_encoded['Starts'].dt.day\n",
    "engagement_df_encoded['month'] = engagement_df_encoded['Starts'].dt.month\n",
    "engagement_df_encoded['weekday'] = engagement_df_encoded['Starts'].dt.weekday\n"
   ]
  },
  {
   "cell_type": "code",
   "execution_count": 4,
   "id": "c381aca4-8e36-402c-b86d-1692e795a104",
   "metadata": {},
   "outputs": [],
   "source": [
    "import numpy as np\n",
    "\n",
    "engagement_df_encoded['log_spend'] = np.log1p(engagement_df_encoded['Amount spent'])\n",
    "engagement_df_encoded['log_reach'] = np.log1p(engagement_df_encoded['Reach'])\n",
    "engagement_df_encoded['log_impressions'] = np.log1p(engagement_df_encoded['Impressions'])\n",
    "engagement_df_encoded['log_post_eng'] = np.log1p(engagement_df_encoded['Post engagements'])\n",
    "engagement_df_encoded['log_comments'] = np.log1p(engagement_df_encoded['Post comments'])\n",
    "engagement_df_encoded['log_reactions'] = np.log1p(engagement_df_encoded['Post reactions'])\n",
    "engagement_df_encoded['log_saves'] = np.log1p(engagement_df_encoded['Post saves'])\n",
    "engagement_df_encoded['log_shares'] = np.log1p(engagement_df_encoded['Post shares'])\n",
    "engagement_df_encoded['log_cost_per_eng'] = np.log1p(engagement_df_encoded['Cost per post engagement (USD)'])\n"
   ]
  },
  {
   "cell_type": "code",
   "execution_count": 5,
   "id": "8e23a82e-f6db-4a09-9565-ee057d6023b0",
   "metadata": {},
   "outputs": [],
   "source": [
    "# Target variable\n",
    "target_col = 'log_post_eng'\n",
    "\n",
    "# Choose predictors based on correlation analysis\n",
    "base_features = [\n",
    "    'log_spend', 'log_reactions', 'log_saves', 'log_shares', 'log_comments'\n",
    "]\n",
    "\n",
    "# Time features\n",
    "time_features = ['day', 'month', 'weekday']\n",
    "\n",
    "# One-hot encoded categorical columns\n",
    "encoded_features = [col for col in engagement_df_encoded.columns if any(p in col for p in ['Platforme_', 'Placement_', 'Device_', 'Ad set budget type_'])]\n",
    "\n",
    "# Final feature list\n",
    "selected_features = base_features + time_features + encoded_features\n",
    "\n",
    "# Create modeling DataFrame\n",
    "engagement_model_df = engagement_df_encoded[[target_col] + selected_features].dropna()\n",
    "\n",
    "# Split X and y\n",
    "X_engagement = engagement_model_df.drop(target_col, axis=1)\n",
    "y_engagement = engagement_model_df[target_col]\n"
   ]
  },
  {
   "cell_type": "markdown",
   "id": "23bb3673-7385-4e40-a090-c675f24ca790",
   "metadata": {},
   "source": [
    "## Feature Engineering – Engagement Campaigns\n",
    "\n",
    "We prepared the dataset for modeling `log_post_eng` using:\n",
    "- One-hot encoding of platform, placement, device, and budget type\n",
    "- Log-transformation of key engagement metrics\n",
    "- Extraction of time features: day, month, weekday\n",
    "\n",
    "### Selected Features:\n",
    "- `log_spend`, `log_reactions`, `log_saves`, `log_shares`, `log_comments`\n",
    "- Categorical encodings\n",
    "- Time-based indicators\n",
    "\n",
    "✅ Dataset is now ready for model training.\n"
   ]
  },
  {
   "cell_type": "code",
   "execution_count": null,
   "id": "5d035920-7cde-436c-82c7-7b28c8fbe0de",
   "metadata": {},
   "outputs": [],
   "source": []
  }
 ],
 "metadata": {
  "kernelspec": {
   "display_name": "Python 3 (ipykernel)",
   "language": "python",
   "name": "python3"
  },
  "language_info": {
   "codemirror_mode": {
    "name": "ipython",
    "version": 3
   },
   "file_extension": ".py",
   "mimetype": "text/x-python",
   "name": "python",
   "nbconvert_exporter": "python",
   "pygments_lexer": "ipython3",
   "version": "3.12.6"
  }
 },
 "nbformat": 4,
 "nbformat_minor": 5
}
